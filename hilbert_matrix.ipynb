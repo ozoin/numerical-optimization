{
 "cells": [
  {
   "cell_type": "code",
   "execution_count": 4,
   "metadata": {},
   "outputs": [],
   "source": [
    "import numpy as np\n",
    "import math\n",
    "import matplotlib.pyplot as plt\n",
    "from scipy import linalg"
   ]
  },
  {
   "cell_type": "code",
   "execution_count": 10,
   "metadata": {},
   "outputs": [
    {
     "name": "stdout",
     "output_type": "stream",
     "text": [
      "start\n",
      "start\n",
      "start\n",
      "start\n",
      "start\n",
      "start\n",
      "start\n",
      "start\n"
     ]
    },
    {
     "data": {
      "image/png": "[encoded data removed]",
      "text/plain": [
       "<Figure size 432x288 with 1 Axes>"
      ]
     },
     "metadata": {
      "needs_background": "light"
     },
     "output_type": "display_data"
    },
    {
     "name": "stdout",
     "output_type": "stream",
     "text": [
      "[5, 7, 9, 12, 14, 17, 22, 26]\n"
     ]
    }
   ],
   "source": [
    "def hilbert_matrix(n):\n",
    "    return np.array([[1/(i + j - 1) for j in range(1, n+1)] for i in range(1, n+1)])\n",
    "\n",
    "def conjugate_grad(A, b, maxiter = 10000):\n",
    "    n = A.shape[0]\n",
    "    x = np.zeros(n)\n",
    "    r = b - A@x\n",
    "    p = -r.copy()\n",
    "    r_old = np.inner(r,r)\n",
    "    iter_num = 0\n",
    "    alpha = r_old / np.inner(p, A@p)\n",
    "    print('start')\n",
    "    results = []\n",
    "    while iter_num<maxiter:\n",
    "        iter_num += 1\n",
    "        # alpha = r_old / np.inner(p, A@p)\n",
    "        x = x + alpha * p\n",
    "        r = r + alpha * A@p\n",
    "        r_new = np.inner(r, r)\n",
    "        if r_new < 10**-6 :\n",
    "            results.append(iter_num)\n",
    "            return iter_num\n",
    "        beta = r_new / r_old\n",
    "        # if np.linalg.norm(A@x-beta)/np.linalg.norm(beta)<10**-6:\n",
    "        #     results.append(iter_num)\n",
    "        #     return iter_num\n",
    "        p = -r + beta * p\n",
    "        r_old = r_new.copy()\n",
    "        alpha = r_old / np.inner(p, A@p)\n",
    "        # print(f'Iteration: {iter_num},  x= {x},r={r_new}')\n",
    "    return iter_num\n",
    "\n",
    "# Set up the problem with n=5,8,12,20,30\n",
    "ns = [5,8,12,20,30,50,60,100]\n",
    "res = []\n",
    "for n in ns:\n",
    "    Q = hilbert_matrix(n)\n",
    "    b = np.ones(n)\n",
    "    iters = conjugate_grad(Q,b)    \n",
    "    res.append(int(iters))\n",
    "\n",
    "plt.plot(ns, res,'o',linestyle = 'dashed')\n",
    "plt.xlabel(\"N's\")\n",
    "plt.ylabel(\"Number of iterations\")\n",
    "plt.show()\n",
    "\n",
    "print(res)"
   ]
  }
 ],
 "metadata": {
  "kernelspec": {
   "display_name": "Python 3",
   "language": "python",
   "name": "python3"
  },
  "language_info": {
   "codemirror_mode": {
    "name": "ipython",
    "version": 3
   },
   "file_extension": ".py",
   "mimetype": "text/x-python",
   "name": "python",
   "nbconvert_exporter": "python",
   "pygments_lexer": "ipython3",
   "version": "3.9.8"
  },
  "orig_nbformat": 4
 },
 "nbformat": 4,
 "nbformat_minor": 2
}
